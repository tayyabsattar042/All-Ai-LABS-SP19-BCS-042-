{
 "cells": [
  {
   "cell_type": "code",
   "execution_count": 1,
   "id": "482d4887",
   "metadata": {},
   "outputs": [
    {
     "name": "stdout",
     "output_type": "stream",
     "text": [
      "['F', 'H', 'I', 'J']\n"
     ]
    }
   ],
   "source": [
    "# LAB ACTIVITY ( SP19-BCS-042 )\n",
    "\n",
    "import math\n",
    "\n",
    "class Node:\n",
    "    def __init__(self, state, parent, actions, totalCost, heuristic):\n",
    "        self.state = state\n",
    "        self.parent = parent\n",
    "        self.actions = actions\n",
    "        self.totalCost = totalCost\n",
    "        self.heuristic = heuristic\n",
    "        \n",
    "        \n",
    "def HCS():\n",
    "    graph = {'A': Node('A', None, [('F',1)], 0, (0,0)),\n",
    "             'B': Node('B', None, [('G',1), ('C',1)], 0, (2,0)),\n",
    "             'C': Node('C', None, [('B',1), ('D',1)], 0, (3,0)),\n",
    "             'D': Node('D', None, [('C',1), ('E',1)], 0, (4,0)),\n",
    "             'E': Node('E', None, [('D',1)], 0, (5,0)),\n",
    "             'F': Node('F', None, [('A',1), ('H',1)], 0, (0,1)),\n",
    "             'G': Node('G', None, [('B',1), ('J',1)], 0, (2,1)),\n",
    "             'H': Node('H', None, [('F',1), ('I',1), ('M',1)], 0, (0,2)),\n",
    "             'I': Node('I', None, [('H',1), ('J',1), ('N',1)], 0, (1,2)),\n",
    "             'J': Node('J', None, [('G',1), ('I',1)], 0, (2,2)),\n",
    "             'K': Node('K', None, [('L',1), ('P',1)], 0, (4,2)),\n",
    "             'L': Node('L', None, [('K',1), ('Q',1)], 0, (5,2)),\n",
    "             'M': Node('M', None, [('H',1), ('N',1), ('R',1)], 0, (0,3)),\n",
    "             'N': Node('N', None, [('I',1), ('M',1), ('S',1)], 0, (1,3)),\n",
    "             'O': Node('O', None, [('P',1), ('U',1)], 0, (3,3)),\n",
    "             'P': Node('P', None, [('O',1), ('Q',1)], 0, (4,3)),\n",
    "             'Q': Node('Q', None, [('L',1), ('P',1), ('V',1)], 0, (5,3)),\n",
    "             'R': Node('R', None, [('M',1), ('S',1)], 0 ,(0,4)),\n",
    "             'S': Node('S', None, [('N',1), ('R',1), ('T',1)], 0, (1,4)),\n",
    "             'T': Node('T', None, [('S',1), ('U',1), ('W',1)], 0, (2,4)),\n",
    "             'U': Node('U', None, [('O',1), ('T',1)], 0, (3,4)),\n",
    "             'V': Node('V', None, [('Q',1), ('Y',1)], 0, (5,4)),\n",
    "             'W': Node('W', None, [('T',1)], 0, (2,5)),\n",
    "             'X': Node('X', None, [('Y',1)], 0, (4,5)),\n",
    "             'Y': Node('Y', None, [('V',1), ('X',1)], 0, (5,5))}\n",
    "    \n",
    "    initialState = 'A'\n",
    "    goalState = 'Y'\n",
    "    parentNode = initialState\n",
    "    parentCost = math.sqrt((graph[goalState].heuristic[0] - \\\n",
    "                            graph[initialState].heuristic[0])**2 +\\\n",
    "                            (graph[goalState].heuristic[1] - \\\n",
    "                             graph[initialState].heuristic[1])**2)\n",
    "    explored = []\n",
    "    solution = []\n",
    "    minChildCost = parentCost - 1\n",
    "    \n",
    "    while parentNode != goalState:\n",
    "        bestNode = parentNode\n",
    "        minChildCost = parentCost\n",
    "        explored.append(parentNode)\n",
    "        \n",
    "        for child in graph[parentNode].actions:\n",
    "            if child[0] not in explored:\n",
    "                childCost = math.sqrt((graph[goalState].heuristic[0]\\\n",
    "                                       - graph[child[0]].heuristic[0]) **2\\\n",
    "                                       + (graph[goalState].heuristic[1]\\\n",
    "                                       - graph[child[0]].heuristic[1]) **2)\n",
    "                if childCost < minChildCost:\n",
    "                    bestNode = child[0]\n",
    "                    minChildCost = childCost\n",
    "        if bestNode == parentNode:\n",
    "            break\n",
    "        else:\n",
    "            parentNode = bestNode\n",
    "            parentCost = minChildCost\n",
    "            solution.append(parentNode)\n",
    "    return solution\n",
    "\n",
    "sol = HCS()\n",
    "print(sol)\n",
    "\n",
    "    "
   ]
  },
  {
   "cell_type": "code",
   "execution_count": null,
   "id": "5e20ec17",
   "metadata": {},
   "outputs": [],
   "source": []
  }
 ],
 "metadata": {
  "kernelspec": {
   "display_name": "Python 3",
   "language": "python",
   "name": "python3"
  },
  "language_info": {
   "codemirror_mode": {
    "name": "ipython",
    "version": 3
   },
   "file_extension": ".py",
   "mimetype": "text/x-python",
   "name": "python",
   "nbconvert_exporter": "python",
   "pygments_lexer": "ipython3",
   "version": "3.8.0 (tags/v3.8.0:fa919fd, Oct 14 2019, 19:37:50) [MSC v.1916 64 bit (AMD64)]"
  },
  "vscode": {
   "interpreter": {
    "hash": "494deeb4eea7fb63b62f74ba02ace728543e0003fbb675bfec79f4f4980c3f04"
   }
  }
 },
 "nbformat": 4,
 "nbformat_minor": 5
}
