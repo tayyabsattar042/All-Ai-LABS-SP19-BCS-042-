{
 "cells": [
  {
   "cell_type": "code",
   "execution_count": 11,
   "id": "6822272f",
   "metadata": {},
   "outputs": [
    {
     "ename": "SyntaxError",
     "evalue": "invalid syntax (Temp/ipykernel_2452/1981483884.py, line 1)",
     "output_type": "error",
     "traceback": [
      "\u001b[1;36m  File \u001b[1;32m\"C:\\Users\\DELL\\AppData\\Local\\Temp/ipykernel_2452/1981483884.py\"\u001b[1;36m, line \u001b[1;32m1\u001b[0m\n\u001b[1;33m    import Constraint from csp,CSP\u001b[0m\n\u001b[1;37m                      ^\u001b[0m\n\u001b[1;31mSyntaxError\u001b[0m\u001b[1;31m:\u001b[0m invalid syntax\n"
     ]
    }
   ],
   "source": [
    "\n",
    "import Constraint from csp,CSP\n",
    "from typing import Dict, List, Optional\n",
    "\n",
    "\n",
    "class MapColoringConstraint(Constraint[str, str]):\n",
    "    def __init__(self, place1: str, place2: str) -> None:\n",
    "        super().__init__([place1, place2])\n",
    "        self.place1: str = place1\n",
    "        self.place2: str = place2\n",
    "\n",
    "    def satisfied(self, assignment: Dict[str, str]) -> bool:\n",
    "        # If either place is not in the assignment then it is not\n",
    "        # yet possible for their colors to be conflicting\n",
    "        if self.place1 not in assignment or self.place2 not in assignment:\n",
    "            return True\n",
    "        # check the color assigned to place1 is not the same as the\n",
    "        # color assigned to place2\n",
    "        return assignment[self.place1] != assignment[self.place2]\n",
    "\n",
    "\n",
    "if __name__ == \"__main__\":\n",
    "    variables: List[str] = [\"Western Australia\", \"Northern Territory\", \"South Australia\",\n",
    "                            \"Queensland\", \"New South Wales\", \"Victoria\", \"Tasmania\"]\n",
    "    domains: Dict[str, List[str]] = {}\n",
    "    for variable in variables:\n",
    "        domains[variable] = [\"red\", \"green\", \"blue\"]\n",
    "    csp: CSP[str, str] = CSP(variables, domains)\n",
    "    csp.add_constraint(MapColoringConstraint(\"Western Australia\", \"Northern Territory\"))\n",
    "    csp.add_constraint(MapColoringConstraint(\"Western Australia\", \"South Australia\"))\n",
    "    csp.add_constraint(MapColoringConstraint(\"South Australia\", \"Northern Territory\"))\n",
    "    csp.add_constraint(MapColoringConstraint(\"Queensland\", \"Northern Territory\"))\n",
    "    csp.add_constraint(MapColoringConstraint(\"Queensland\", \"South Australia\"))\n",
    "    csp.add_constraint(MapColoringConstraint(\"Queensland\", \"New South Wales\"))\n",
    "    csp.add_constraint(MapColoringConstraint(\"New South Wales\", \"South Australia\"))\n",
    "    csp.add_constraint(MapColoringConstraint(\"Victoria\", \"South Australia\"))\n",
    "    csp.add_constraint(MapColoringConstraint(\"Victoria\", \"New South Wales\"))\n",
    "    csp.add_constraint(MapColoringConstraint(\"Victoria\", \"Tasmania\"))\n",
    "    solution: Optional[Dict[str, str]] = csp.backtracking_search()\n",
    "    if solution is None:\n",
    "        print(\"No solution found!\")\n",
    "    else:\n",
    "        print(solution)"
   ]
  },
  {
   "cell_type": "code",
   "execution_count": null,
   "id": "179de83d",
   "metadata": {},
   "outputs": [],
   "source": []
  }
 ],
 "metadata": {
  "kernelspec": {
   "display_name": "Python 3 (ipykernel)",
   "language": "python",
   "name": "python3"
  },
  "language_info": {
   "codemirror_mode": {
    "name": "ipython",
    "version": 3
   },
   "file_extension": ".py",
   "mimetype": "text/x-python",
   "name": "python",
   "nbconvert_exporter": "python",
   "pygments_lexer": "ipython3",
   "version": "3.9.7"
  }
 },
 "nbformat": 4,
 "nbformat_minor": 5
}
