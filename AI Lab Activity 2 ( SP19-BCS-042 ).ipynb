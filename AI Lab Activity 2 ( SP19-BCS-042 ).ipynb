{
 "cells": [
  {
   "cell_type": "code",
   "execution_count": 2,
   "metadata": {},
   "outputs": [
    {
     "name": "stdout",
     "output_type": "stream",
     "text": [
      "enter frist list: \n",
      "enter a value: 1\n",
      "enter a value: 2\n",
      "enter a value: 3\n",
      "enter a value: 4\n",
      "enter a value: 5\n",
      "enter second list: \n",
      "enter a value:6\n",
      "enter a value:7\n",
      "enter a value:8\n",
      "enter a value:9\n",
      "enter a value:0\n",
      "[1, 2, 3, 4, 5, 6, 7, 8, 9, 0]\n"
     ]
    }
   ],
   "source": [
    "mylist1=[]\n",
    "print(\"enter frist list: \")\n",
    "\n",
    "for i in range(5):\n",
    "    val=input(\"enter a value: \")\n",
    "    n=int(val)\n",
    "    mylist1.append(n)\n",
    "\n",
    "mylist2=[]\n",
    "print(\"enter second list: \")\n",
    "\n",
    "for i in range(5):\n",
    "    val=input(\"enter a value:\")\n",
    "    n=int(val)\n",
    "    mylist2.append(n)\n",
    "\n",
    "list3=mylist1+mylist2;\n",
    "\n",
    "print(list3)\n"
   ]
  },
  {
   "cell_type": "code",
   "execution_count": 45,
   "metadata": {},
   "outputs": [
    {
     "name": "stdout",
     "output_type": "stream",
     "text": [
      "True\n"
     ]
    }
   ],
   "source": [
    "def ispalindrome(word):\n",
    "    temp=word[::-1]\n",
    "    \n",
    "    if temp.capitalize()==word.capitalize():\n",
    "        return True\n",
    "    else:\n",
    "        return False\n",
    "\n",
    "print(ispalindrome(\"deed\"))"
   ]
  },
  {
   "cell_type": "code",
   "execution_count": 15,
   "metadata": {},
   "outputs": [
    {
     "name": "stdout",
     "output_type": "stream",
     "text": [
      "[[1, 4, 7], [2, 5, 8], [3, 6, 9]]\n"
     ]
    }
   ],
   "source": [
    "a = [[1, 0, 0], [0, 1, 0], [0, 0, 1] ]\n",
    "b = [[1, 2, 3], [4, 5, 6], [7, 8, 9] ]\n",
    "c=[]\n",
    "for indrow in range (3):\n",
    "    \n",
    "    c.append([])\n",
    "    for indcol in range(3):\n",
    "        c[indrow].append(0)\n",
    "        \n",
    "        for indaux in range(3):\n",
    "            c[indrow][indcol] += a[indrow][indaux] * b[indcol][indrow]\n",
    "\n",
    "print (c)"
   ]
  },
  {
   "cell_type": "code",
   "execution_count": 39,
   "metadata": {},
   "outputs": [
    {
     "data": {
      "text/plain": [
       "15.867444035869614"
      ]
     },
     "execution_count": 39,
     "metadata": {},
     "output_type": "execute_result"
    }
   ],
   "source": [
    "def perimeter(listing):\n",
    "    leng=len(listing)\n",
    "    perimeter=0;\n",
    "    \n",
    "    for i in range (0,leng-1):\n",
    "        dist=(((listing[i][0]-listing[i+1][0])**2)+\n",
    "             ((listing[i][1]-listing[i+1][1])**2))**0.5\n",
    "              \n",
    "        perimeter = perimeter + dist\n",
    "    \n",
    "    perimeter = perimeter + (((listing[0][0]-listing[leng-1][0])**2)\n",
    "                        +((listing[0][1]-listing[leng-1][1])**2))**0.5\n",
    "    \n",
    "    return perimeter \n",
    "\n",
    "L=[(1,3),(2,7),(3,9),(-1,8)]\n",
    "\n",
    "perimeter((L))"
   ]
  },
  {
   "cell_type": "code",
   "execution_count": 35,
   "metadata": {},
   "outputs": [
    {
     "name": "stdout",
     "output_type": "stream",
     "text": [
      "{0, 1, 2, 7, 8, 9}\n",
      "{0, 1, 2, 7, 8, 9}\n",
      "{0, 1, 2, 7, 8, 9}\n",
      "{0, 1, 2, 7, 8, 9}\n",
      "{0, 1, 2, 7, 8, 9}\n"
     ]
    }
   ],
   "source": [
    " def symmDiff (a,b):\n",
    "        e=set() \n",
    "        for i in a:\n",
    "            if i not in b :\n",
    "                e.add(i)\n",
    "        for i in b:\n",
    "            if i not in a:\n",
    "                e.add(i)\n",
    "        return e\n",
    "    \n",
    "set1={0,1,2,4,5}\n",
    "set2={4,5,7,8,9}\n",
    "\n",
    "print (symmDiff(set1,set2))\n",
    "\n",
    "print(set1.symmetric_difference(set2))\n",
    "print(set2.symmetric_difference(set1))\n",
    "print(set1^set2)\n",
    "print(set2^set1)"
   ]
  },
  {
   "cell_type": "code",
   "execution_count": 44,
   "metadata": {},
   "outputs": [
    {
     "name": "stdout",
     "output_type": "stream",
     "text": [
      "enter frist name: sohaib\n",
      "enter last name: ali\n",
      "0246585468445\n"
     ]
    }
   ],
   "source": [
    "\n",
    "sample={(\"sohaib\",\"ali\"):\"0246585468445\",(\"aib\",\"li\"): \"02465854645\",(\"sib\",\"ai\"):\"0246585468445\",}\n",
    "\n",
    "fristname=input(\"enter frist name: \")\n",
    "lastname=input(\"enter last name: \")\n",
    "\n",
    "searchtuple=( fristname,lastname)\n",
    "\n",
    "if searchtuple in sample:\n",
    "    \n",
    "    print(sample[searchtuple])\n",
    "    \n",
    "else:\n",
    "    print(\"name not found\")\n"
   ]
  },
  {
   "cell_type": "code",
   "execution_count": null,
   "metadata": {},
   "outputs": [],
   "source": []
  }
 ],
 "metadata": {
  "kernelspec": {
   "display_name": "Python 3",
   "language": "python",
   "name": "python3"
  },
  "language_info": {
   "codemirror_mode": {
    "name": "ipython",
    "version": 3
   },
   "file_extension": ".py",
   "mimetype": "text/x-python",
   "name": "python",
   "nbconvert_exporter": "python",
   "pygments_lexer": "ipython3",
   "version": "3.8.0 (tags/v3.8.0:fa919fd, Oct 14 2019, 19:37:50) [MSC v.1916 64 bit (AMD64)]"
  },
  "vscode": {
   "interpreter": {
    "hash": "494deeb4eea7fb63b62f74ba02ace728543e0003fbb675bfec79f4f4980c3f04"
   }
  }
 },
 "nbformat": 4,
 "nbformat_minor": 2
}
