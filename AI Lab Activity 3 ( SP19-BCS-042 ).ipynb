{
 "cells": [
  {
   "cell_type": "code",
   "execution_count": 1,
   "id": "93d3e93f",
   "metadata": {},
   "outputs": [],
   "source": [
    "class Node:\n",
    "    def __init__(self,state,parent,actions,totalCost):\n",
    "        self.state=state\n",
    "        self.parent=parent\n",
    "        self.actions=actions\n",
    "        self.totalCost=totalCost"
   ]
  },
  {
   "cell_type": "code",
   "execution_count": 2,
   "id": "e62d4b1d",
   "metadata": {},
   "outputs": [],
   "source": [
    "graph={'A':Node('A',None,['B','C','E'],None),\n",
    "       'B':Node('B',None,['A','D','E'],None),\n",
    "       'C':Node('C',None,['A','F','G'],None),\n",
    "       'D':Node('D',None,['B','E'],None),\n",
    "       'E':Node('E',None,['A','B','D'],None),\n",
    "       'F':Node('F',None,['C'],None),\n",
    "       'G':Node('G',None,['C'],None),\n",
    "      }"
   ]
  },
  {
   "cell_type": "code",
   "execution_count": 7,
   "id": "ada78ee7",
   "metadata": {},
   "outputs": [],
   "source": [
    "def actionSeqence(graph,initialState,goalstate):\n",
    "    solution=[goalstate]\n",
    "    currentparent=graph[goalstate].parent\n",
    "    while currentparent!=None:\n",
    "        solution.append(currentparent)\n",
    "        currentparent=graph(currentparent).parent\n",
    "    solution.reverse()\n",
    "    return solution\n",
    "        "
   ]
  },
  {
   "cell_type": "code",
   "execution_count": 1,
   "id": "4969cb76",
   "metadata": {},
   "outputs": [
    {
     "name": "stdout",
     "output_type": "stream",
     "text": [
      "['A', 'B', 'C', 'D', 'E', 'F']\n"
     ]
    }
   ],
   "source": [
    "def breadth_first_search(graph, start):\n",
    "    visited = []\n",
    "    queue = [start]\n",
    "\n",
    "    while queue:\n",
    "        vertex = queue.pop(0)\n",
    "        if vertex not in visited:\n",
    "            visited.append(vertex)\n",
    "            queue.extend(graph[vertex] - set(visited))\n",
    "    return visited\n",
    "\n",
    "graph = {'A': set(['B', 'C']),\n",
    "         'B': set(['A', 'D', 'E']),\n",
    "         'C': set(['A', 'F']),\n",
    "         'D': set(['B']),\n",
    "         'E': set(['B', 'F']),\n",
    "         'F': set(['C', 'E'])}\n",
    "\n",
    "print(breadth_first_search(graph, 'A'))  \n"
   ]
  },
  {
   "cell_type": "code",
   "execution_count": 2,
   "id": "721f7e85",
   "metadata": {},
   "outputs": [
    {
     "name": "stdout",
     "output_type": "stream",
     "text": [
      "['D', 'B', 'A', 'C', 'F']\n"
     ]
    }
   ],
   "source": [
    "class Node:\n",
    "    def __init__(self, state, parent, actions, cost):\n",
    "        self.state = state\n",
    "        self.parent = parent\n",
    "        self.actions = actions\n",
    "        self.cost = cost\n",
    "\n",
    "def actionSequence(graph, initialState, goalState):\n",
    "   \n",
    "    actions = []\n",
    "    node = goalState\n",
    "    while node != initialState:\n",
    "        actions.append(node)\n",
    "        node = graph[node].parent\n",
    "   \n",
    "    actions.append(initialState)\n",
    "    actions.reverse()\n",
    "    return actions\n",
    "\n",
    "def BFS():\n",
    "    initialState = 'D'\n",
    "    goalState = 'F'\n",
    "    \n",
    "    graph = {'A': Node('A', None, ['B','C','E'], None),\n",
    "            'B': Node('B', None, ['A','D','E'], None),\n",
    "            'C': Node('C', None, ['A','F','G'], None),\n",
    "            'D': Node('D', None, ['B','E'], None),\n",
    "            'E': Node('E', None, ['A','B','D'], None),\n",
    "            'F': Node('F', None, ['C'], None),\n",
    "            'G': Node('G', None, ['C'], None)\n",
    "           }\n",
    "    \n",
    "    frontier = [initialState]\n",
    "    explored = []\n",
    "    \n",
    "    while len(frontier) != 0:\n",
    "        currentnode = frontier.pop(0)\n",
    "        explored.append(currentnode)\n",
    "        for child in graph[currentnode].actions:\n",
    "            if child not in frontier and child not in explored:\n",
    "                graph[child].parent = currentnode\n",
    "                if graph[child].state == goalState:\n",
    "                    return actionSequence(graph, initialState, goalState)\n",
    "                frontier.append(child)\n",
    "\n",
    "\n",
    "solution = BFS()\n",
    "print(solution)\n"
   ]
  },
  {
   "cell_type": "code",
   "execution_count": null,
   "id": "711a10ed",
   "metadata": {},
   "outputs": [],
   "source": []
  }
 ],
 "metadata": {
  "kernelspec": {
   "display_name": "Python 3 (ipykernel)",
   "language": "python",
   "name": "python3"
  },
  "language_info": {
   "codemirror_mode": {
    "name": "ipython",
    "version": 3
   },
   "file_extension": ".py",
   "mimetype": "text/x-python",
   "name": "python",
   "nbconvert_exporter": "python",
   "pygments_lexer": "ipython3",
   "version": "3.9.7"
  }
 },
 "nbformat": 4,
 "nbformat_minor": 5
}
