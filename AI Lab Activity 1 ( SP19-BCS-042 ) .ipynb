{
 "cells": [
  {
   "cell_type": "code",
   "execution_count": 1,
   "id": "3f332d51",
   "metadata": {},
   "outputs": [
    {
     "name": "stdout",
     "output_type": "stream",
     "text": [
      "123123123123123123123123123123123123123123123124\n"
     ]
    }
   ],
   "source": [
    " print(123123123123123123123123123123123123123123123123 + 1)"
   ]
  },
  {
   "cell_type": "code",
   "execution_count": 2,
   "id": "c71452cb",
   "metadata": {},
   "outputs": [
    {
     "name": "stdout",
     "output_type": "stream",
     "text": [
      "10\n"
     ]
    }
   ],
   "source": [
    "print(10)\n"
   ]
  },
  {
   "cell_type": "code",
   "execution_count": 3,
   "id": "d25ac220",
   "metadata": {},
   "outputs": [
    {
     "name": "stdout",
     "output_type": "stream",
     "text": [
      "8\n"
     ]
    }
   ],
   "source": [
    "print(0o10)\n"
   ]
  },
  {
   "cell_type": "code",
   "execution_count": 4,
   "id": "539530ad",
   "metadata": {},
   "outputs": [
    {
     "name": "stdout",
     "output_type": "stream",
     "text": [
      "16\n"
     ]
    }
   ],
   "source": [
    "print(0x10)"
   ]
  },
  {
   "cell_type": "code",
   "execution_count": 5,
   "id": "b132294d",
   "metadata": {},
   "outputs": [
    {
     "data": {
      "text/plain": [
       "float"
      ]
     },
     "execution_count": 5,
     "metadata": {},
     "output_type": "execute_result"
    }
   ],
   "source": [
    " type(4.2)"
   ]
  },
  {
   "cell_type": "code",
   "execution_count": 6,
   "id": "da48df76",
   "metadata": {},
   "outputs": [
    {
     "data": {
      "text/plain": [
       "4000000.0"
      ]
     },
     "execution_count": 6,
     "metadata": {},
     "output_type": "execute_result"
    }
   ],
   "source": [
    ".4e7"
   ]
  },
  {
   "cell_type": "code",
   "execution_count": 7,
   "id": "23536b28",
   "metadata": {},
   "outputs": [
    {
     "data": {
      "text/plain": [
       "0.00042"
      ]
     },
     "execution_count": 7,
     "metadata": {},
     "output_type": "execute_result"
    }
   ],
   "source": [
    "4.2e-4"
   ]
  },
  {
   "cell_type": "code",
   "execution_count": 8,
   "id": "5d1764fa",
   "metadata": {},
   "outputs": [
    {
     "data": {
      "text/plain": [
       "5e-324"
      ]
     },
     "execution_count": 8,
     "metadata": {},
     "output_type": "execute_result"
    }
   ],
   "source": [
    "5e-324\n"
   ]
  },
  {
   "cell_type": "code",
   "execution_count": 9,
   "id": "96cd45eb",
   "metadata": {},
   "outputs": [
    {
     "name": "stdout",
     "output_type": "stream",
     "text": [
      "I am a string.\n"
     ]
    }
   ],
   "source": [
    "print(\"I am a string.\")"
   ]
  },
  {
   "cell_type": "code",
   "execution_count": 10,
   "id": "b6cc2065",
   "metadata": {},
   "outputs": [
    {
     "data": {
      "text/plain": [
       "str"
      ]
     },
     "execution_count": 10,
     "metadata": {},
     "output_type": "execute_result"
    }
   ],
   "source": [
    " type('I am too.')"
   ]
  },
  {
   "cell_type": "code",
   "execution_count": 12,
   "id": "b8f078b6",
   "metadata": {},
   "outputs": [
    {
     "ename": "SyntaxError",
     "evalue": "invalid syntax (Temp/ipykernel_6424/1099109788.py, line 1)",
     "output_type": "error",
     "traceback": [
      "\u001b[1;36m  File \u001b[1;32m\"C:\\Users\\DELL\\AppData\\Local\\Temp/ipykernel_6424/1099109788.py\"\u001b[1;36m, line \u001b[1;32m1\u001b[0m\n\u001b[1;33m    print('This string contains a single quote (') character.')\u001b[0m\n\u001b[1;37m                                                   ^\u001b[0m\n\u001b[1;31mSyntaxError\u001b[0m\u001b[1;31m:\u001b[0m invalid syntax\n"
     ]
    }
   ],
   "source": [
    "print('This string contains a single quote (') character.')"
   ]
  },
  {
   "cell_type": "code",
   "execution_count": 11,
   "id": "404dd52a",
   "metadata": {},
   "outputs": [
    {
     "name": "stdout",
     "output_type": "stream",
     "text": [
      "This string contains a single quote (') character.\n"
     ]
    }
   ],
   "source": [
    "print(\"This string contains a single quote (') character.\")\n"
   ]
  },
  {
   "cell_type": "code",
   "execution_count": 13,
   "id": "90a2b758",
   "metadata": {},
   "outputs": [
    {
     "name": "stdout",
     "output_type": "stream",
     "text": [
      "abc\n"
     ]
    }
   ],
   "source": [
    "print('a\\\n",
    "... b\\\n",
    "... c')"
   ]
  },
  {
   "cell_type": "code",
   "execution_count": null,
   "id": "95606b70",
   "metadata": {},
   "outputs": [],
   "source": []
  }
 ],
 "metadata": {
  "kernelspec": {
   "display_name": "Python 3 (ipykernel)",
   "language": "python",
   "name": "python3"
  },
  "language_info": {
   "codemirror_mode": {
    "name": "ipython",
    "version": 3
   },
   "file_extension": ".py",
   "mimetype": "text/x-python",
   "name": "python",
   "nbconvert_exporter": "python",
   "pygments_lexer": "ipython3",
   "version": "3.9.7"
  }
 },
 "nbformat": 4,
 "nbformat_minor": 5
}
